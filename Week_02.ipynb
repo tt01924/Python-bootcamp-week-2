{
 "cells": [
  {
   "cell_type": "markdown",
   "id": "0e2f9c6b-07bd-45b4-9233-48cb88ddc9ee",
   "metadata": {},
   "source": [
    "# Comments & Basic Data Types"
   ]
  },
  {
   "cell_type": "code",
   "execution_count": 3,
   "id": "1ea522c2-15c2-4199-b376-2b4779b54cb5",
   "metadata": {},
   "outputs": [
    {
     "name": "stdout",
     "output_type": "stream",
     "text": [
      "Hello\n"
     ]
    }
   ],
   "source": [
    "print(\"Hello\") # this is also a comment"
   ]
  },
  {
   "cell_type": "code",
   "execution_count": 4,
   "id": "2e084f77-cd18-4835-909e-8bdc957f2064",
   "metadata": {},
   "outputs": [
    {
     "name": "stdout",
     "output_type": "stream",
     "text": [
      "Hello\n"
     ]
    }
   ],
   "source": [
    "\"\"\"\n",
    "    This is a multi-Line comment\n",
    "\"\"\"\n",
    "print(\"Hello\") #this is also a comment"
   ]
  },
  {
   "cell_type": "code",
   "execution_count": 7,
   "id": "0617be66-322f-4963-b399-db84b0564f7a",
   "metadata": {},
   "outputs": [
    {
     "name": "stdout",
     "output_type": "stream",
     "text": [
      "Todd\n"
     ]
    },
    {
     "data": {
      "text/plain": [
       "type"
      ]
     },
     "execution_count": 7,
     "metadata": {},
     "output_type": "execute_result"
    }
   ],
   "source": [
    "print(\"Todd\")\n",
    "type(int)"
   ]
  },
  {
   "cell_type": "markdown",
   "id": "215b347c-df89-4a8c-af09-c5ea5c40fe99",
   "metadata": {},
   "source": [
    "# Variables."
   ]
  },
  {
   "cell_type": "code",
   "execution_count": 10,
   "id": "e1e57763-9450-4433-9b8c-bdb03d3a5743",
   "metadata": {},
   "outputs": [
    {
     "name": "stdout",
     "output_type": "stream",
     "text": [
      "5 8.4\n"
     ]
    }
   ],
   "source": [
    "num1 = 5\n",
    "num2 = 8.4\n",
    "print(num1, num2)"
   ]
  },
  {
   "cell_type": "code",
   "execution_count": 11,
   "id": "9bf45a93-75f1-4d4d-9a16-a787ba683a39",
   "metadata": {},
   "outputs": [
    {
     "name": "stdout",
     "output_type": "stream",
     "text": [
      "True\n"
     ]
    }
   ],
   "source": [
    "#storing a boolean into a variable\n",
    "switch = True\n",
    "print(switch)"
   ]
  },
  {
   "cell_type": "code",
   "execution_count": 12,
   "id": "8c24d8c7-1a0c-4c5d-9711-f5c636011119",
   "metadata": {},
   "outputs": [
    {
     "name": "stdout",
     "output_type": "stream",
     "text": [
      "Todd Taylor 9\n"
     ]
    }
   ],
   "source": [
    "#storing strings into a variable\n",
    "name = \"Todd Taylor\"\n",
    "fav_number = '9'\n",
    "print(name, fav_number) #will print 9 next to the name"
   ]
  },
  {
   "cell_type": "code",
   "execution_count": 13,
   "id": "1b46924d-33d3-40c4-bf6d-814581a7d539",
   "metadata": {},
   "outputs": [
    {
     "name": "stdout",
     "output_type": "stream",
     "text": [
      "13.4\n"
     ]
    }
   ],
   "source": [
    "# using two variables to create another variable\n",
    "result = num1 + num2\n",
    "print(result)"
   ]
  },
  {
   "cell_type": "code",
   "execution_count": 14,
   "id": "d88edd74-eec1-43b9-8dc6-9fc4220d6ff0",
   "metadata": {},
   "outputs": [
    {
     "name": "stdout",
     "output_type": "stream",
     "text": [
      "14.4\n",
      "72.0\n"
     ]
    }
   ],
   "source": [
    "# adding, deleting, multiplying, dividing from a variable \n",
    "result += 1\n",
    "print(result)\n",
    "result *= num1\n",
    "print(result)"
   ]
  },
  {
   "cell_type": "code",
   "execution_count": 15,
   "id": "b90a6954-4a35-497c-a1ed-9f860fd4958d",
   "metadata": {},
   "outputs": [
    {
     "name": "stdout",
     "output_type": "stream",
     "text": [
      "John\n",
      "Todd\n"
     ]
    }
   ],
   "source": [
    "#defining a variable and overwriting it's value\n",
    "name = 'John'\n",
    "print(name)\n",
    "name = 'Todd'\n",
    "print(name)"
   ]
  },
  {
   "cell_type": "markdown",
   "id": "763a382a-6147-4cef-a646-fbadb3cb4231",
   "metadata": {},
   "source": [
    "# Exercises"
   ]
  },
  {
   "cell_type": "code",
   "execution_count": 16,
   "id": "aef8fc87-291c-4742-a6a8-0a31365c1db6",
   "metadata": {},
   "outputs": [
    {
     "name": "stdout",
     "output_type": "stream",
     "text": [
      "13\n"
     ]
    }
   ],
   "source": [
    "x = 3\n",
    "y = 10\n",
    "result = x * y\n",
    "print(3 + 10)"
   ]
  },
  {
   "cell_type": "code",
   "execution_count": 17,
   "id": "91776135-0f1b-4f82-b914-bec8b374c742",
   "metadata": {},
   "outputs": [
    {
     "name": "stdout",
     "output_type": "stream",
     "text": [
      "3354.0764\n"
     ]
    }
   ],
   "source": [
    "width = 245.54\n",
    "height = 13.66\n",
    "result = width * height\n",
    "print(result)"
   ]
  },
  {
   "cell_type": "markdown",
   "id": "294b8716-52cb-4897-adac-75363c1f5217",
   "metadata": {},
   "source": [
    "# Working with Strings."
   ]
  },
  {
   "cell_type": "code",
   "execution_count": 19,
   "id": "a2542c83-6a00-4a54-992c-e663a091220d",
   "metadata": {},
   "outputs": [
    {
     "name": "stdout",
     "output_type": "stream",
     "text": [
      "John Taylor\n"
     ]
    }
   ],
   "source": [
    "name = 'John' + ' ' + 'Taylor'\n",
    "print(name)"
   ]
  },
  {
   "cell_type": "code",
   "execution_count": 20,
   "id": "d6997810-d8f2-4f08-9c0f-4fa699f2d2be",
   "metadata": {},
   "outputs": [
    {
     "name": "stdout",
     "output_type": "stream",
     "text": [
      "John Taylor\n"
     ]
    }
   ],
   "source": [
    "# using the addition operator with variables\n",
    "first_name = 'John'\n",
    "last_name = 'Taylor'\n",
    "full_name = first_name + ' ' + last_name\n",
    "print(full_name)\n"
   ]
  },
  {
   "cell_type": "code",
   "execution_count": 24,
   "id": "fb133f22-ea12-4aeb-b989-33252487c097",
   "metadata": {},
   "outputs": [
    {
     "name": "stdout",
     "output_type": "stream",
     "text": [
      "Hello John\n",
      "Hello John, you are 28 years old!\n"
     ]
    }
   ],
   "source": [
    "# injecting variables using the format method\n",
    "name = 'John'\n",
    "print( 'Hello {}'.format(name) )\n",
    "print( 'Hello {}, you are {} years old!'.format(name, 28) )"
   ]
  },
  {
   "cell_type": "code",
   "execution_count": 25,
   "id": "3b3ef58f-843e-4b07-ab55-ee116007b796",
   "metadata": {},
   "outputs": [
    {
     "name": "stdout",
     "output_type": "stream",
     "text": [
      "Hello John\n"
     ]
    }
   ],
   "source": [
    "#using the new f strings\n",
    "name = 'John'\n",
    "print( f'Hello {name}' )"
   ]
  },
  {
   "cell_type": "markdown",
   "id": "e75c0952-2335-4de4-a7d1-9548cd9ec816",
   "metadata": {},
   "source": [
    "# Exercises"
   ]
  },
  {
   "cell_type": "code",
   "execution_count": 27,
   "id": "3bfde088-7997-41a7-9eed-4a15517ff432",
   "metadata": {},
   "outputs": [
    {
     "name": "stdout",
     "output_type": "stream",
     "text": [
      "23 4.5 False John\n"
     ]
    }
   ],
   "source": [
    "name = 'John'\n",
    "int = 23\n",
    "float = 4.5\n",
    "bool = False\n",
    "print( f'{int} {float} {bool} {name}')"
   ]
  },
  {
   "cell_type": "code",
   "execution_count": 29,
   "id": "9a7cbe6a-9ef9-4bc8-a387-5d03133b19ad",
   "metadata": {},
   "outputs": [
    {
     "name": "stdout",
     "output_type": "stream",
     "text": [
      "Todd's favourite sports is Weight-lifting.\n",
      "Todd is working on Python programming!\n"
     ]
    }
   ],
   "source": [
    "name = 'Todd'\n",
    "sport = 'Weight-lifting'\n",
    "program = 'Python'\n",
    "print( \"{}'s favourite sports is {}.\".format(name, sport) )\n",
    "print( \"{} is working on {} programming!\".format(name, program) )"
   ]
  },
  {
   "cell_type": "markdown",
   "id": "d8855561-a3c8-495f-85f1-48666bed0279",
   "metadata": {},
   "source": [
    "# Friday Project: Printing Receipts"
   ]
  },
  {
   "cell_type": "code",
   "execution_count": 44,
   "id": "f2459d82-f8ac-4ff3-8c55-c42e2e0257f3",
   "metadata": {},
   "outputs": [
    {
     "name": "stdout",
     "output_type": "stream",
     "text": [
      "**************************************************\n",
      "\t\tWess Vex\n",
      "\t\t283 Franklin st.\n",
      "\t\tBoston, MA\n",
      "==================================================\n",
      "\tProduct Name\tProduct Price\n",
      "\tBooks\t\t$49.95\n",
      "\tComputer\t\t$579.99\n",
      "\tMonitor\t\t$124.89\n",
      "==================================================\n",
      "\t\t\tTotal\n",
      "\t\t\t$754.83\n",
      "==================================================\n",
      "\n",
      "\tThanks for shopping with us today!\n",
      "\n",
      "**************************************************\n"
     ]
    }
   ],
   "source": [
    "# create a product and price for three items\n",
    "p1_name, p1_price = \"Books\", 49.95\n",
    "p2_name, p2_price = \"Computer\", 579.99\n",
    "p3_name, p3_price = \"Monitor\", 124.89\n",
    "\n",
    "# create a company name and information\n",
    "company_name = \"wess vex\"\n",
    "company_address = \"283 Franklin st.\"\n",
    "company_city = \"Boston, MA\"\n",
    "\n",
    "# declare ending message\n",
    "message = \"Thanks for shopping with us today!\"\n",
    "\n",
    "# create a top border\n",
    "print( \"*\" * 50 )\n",
    "\n",
    "# print company information first, using format\n",
    "print ( \"\\t\\t{}\".format( company_name.title() ) )\n",
    "print ( \"\\t\\t{}\".format( company_address ) )\n",
    "print ( \"\\t\\t{}\".format( company_city ) )\n",
    "\n",
    "# print a line between sections\n",
    "print( \"=\" * 50 )\n",
    "\n",
    "# print out header for section of items\n",
    "print(\"\\tProduct Name\\tProduct Price\")\n",
    "\n",
    "# create a print statement for each product\n",
    "print( \"\\t{}\\t\\t${}\".format(p1_name.title(), p1_price) )\n",
    "print( \"\\t{}\\t\\t${}\".format(p2_name.title(), p2_price) )\n",
    "print( \"\\t{}\\t\\t${}\".format(p3_name.title(), p3_price) )\n",
    "\n",
    "# print a line between sections\n",
    "print('=' * 50)\n",
    "\n",
    "# print out header for section of total\n",
    "print(\"\\t\\t\\tTotal\")\n",
    "\n",
    "# calculate total price and print out\n",
    "total = p1_price + p2_price + p3_price\n",
    "print( \"\\t\\t\\t${}\".format(total) )\n",
    "\n",
    "# print a line between sections\n",
    "print( \"=\" * 50)\n",
    "\n",
    "# output thank you message\n",
    "print( \"\\n\\t{}\\n\".format(message) )\n",
    "\n",
    "#create a bottom border\n",
    "print(\"*\" * 50)"
   ]
  }
 ],
 "metadata": {
  "kernelspec": {
   "display_name": "Python 3 (ipykernel)",
   "language": "python",
   "name": "python3"
  },
  "language_info": {
   "codemirror_mode": {
    "name": "ipython",
    "version": 3
   },
   "file_extension": ".py",
   "mimetype": "text/x-python",
   "name": "python",
   "nbconvert_exporter": "python",
   "pygments_lexer": "ipython3",
   "version": "3.11.7"
  }
 },
 "nbformat": 4,
 "nbformat_minor": 5
}
